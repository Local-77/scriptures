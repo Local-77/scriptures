{
 "cells": [
  {
   "cell_type": "code",
   "execution_count": 17,
   "id": "277ba9d3-2ca8-4bea-9f33-f0b7dbed4e54",
   "metadata": {},
   "outputs": [],
   "source": [
    "import json\n",
    "import psycopg2\n",
    "import requests\n",
    "from tqdm import tqdm\n",
    "from dotenv import load_dotenv\n",
    "import os\n",
    "\n",
    "load_dotenv()\n",
    "\n",
    "def embed_text(raw_text):\n",
    "    headers = {'Content-Type': 'application/json'}\n",
    "    payload = {\"model\": \"bge-m3\", 'prompt': raw_text}\n",
    "\n",
    "    response = requests.post(\"http://192.168.68.66:11434/api/embeddings\",\n",
    "                             data=json.dumps(payload),\n",
    "                             headers=headers)\n",
    "    return response.json().get(\"embedding\")\n",
    "\n",
    "\n",
    "# use psycopg2 or psycopg2-binary to do database connection and grab all verses\n",
    "# in for loop embed each verse one at a time\n",
    "# in for loop save the embedding back to the row by id"
   ]
  },
  {
   "cell_type": "code",
   "execution_count": 18,
   "id": "b4dc3ebf-e1f3-4f16-a851-c5c26970256b",
   "metadata": {},
   "outputs": [],
   "source": [
    "db_name = os.getenv(\"DB_NAME\")\n",
    "db_user = os.getenv(\"DB_USER\")\n",
    "db_password = os.getenv(\"DB_PASSWORD\")\n",
    "db_host = os.getenv(\"DB_HOST\")\n",
    "db_port = os.getenv(\"DB_PORT\")\n",
    "embedding_api = os.getenv(\"EMBEDDING_API\")\n",
    "embedding_model = os.getenv(\"EMBEDDING_MODEL\")"
   ]
  },
  {
   "cell_type": "code",
   "execution_count": 20,
   "id": "70b4f322-1366-40a6-88fc-ae5e4c973cea",
   "metadata": {},
   "outputs": [],
   "source": [
    "#connection parameters for psycopg2\n",
    "connection = psycopg2.connect(\n",
    "    dbname=db_name,\n",
    "    user=db_user,\n",
    "    password=db_password,\n",
    "    host=db_host,\n",
    "    port=db_port\n",
    ")"
   ]
  },
  {
   "cell_type": "code",
   "execution_count": 21,
   "id": "9c3ebbd7-e7e3-4ec6-96cf-1590703df0b8",
   "metadata": {},
   "outputs": [],
   "source": [
    "from psycopg2 import OperationalError\n",
    "\n",
    "def create_connection():\n",
    "    try:\n",
    "        connection = psycopg2.connect(\n",
    "            dbname=db_name,\n",
    "            user=db_user,\n",
    "            password=db_password,\n",
    "            host=db_host,\n",
    "            port=db_port\n",
    "        )\n",
    "        print(\"Connection to PostgreSQL successful\")\n",
    "        return connection\n",
    "    except OperationalError as e:\n",
    "        print(f\"The error '{e}' occurred\")\n",
    "        return None"
   ]
  },
  {
   "cell_type": "code",
   "execution_count": 22,
   "id": "3fa1d127-4b84-45cd-b57b-43bc28c86c93",
   "metadata": {},
   "outputs": [
    {
     "name": "stdout",
     "output_type": "stream",
     "text": [
      "Connection to PostgreSQL successful\n"
     ]
    }
   ],
   "source": [
    "connection = create_connection()"
   ]
  },
  {
   "cell_type": "code",
   "execution_count": 11,
   "id": "7b2145b2-abd4-4de8-9625-f68942484234",
   "metadata": {},
   "outputs": [],
   "source": [
    "# create a cursor to allow database queries\n",
    "cursor = connection.cursor()\n",
    "\n",
    "# define a SQL query to select all verses\n",
    "query = \"SELECT id, scripture_text FROM verses;\"\n",
    "# execute the query\n",
    "cursor.execute(query)\n",
    "# fetch all the verses\n",
    "verses = cursor.fetchall()"
   ]
  },
  {
   "cell_type": "code",
   "execution_count": 13,
   "id": "ec590e03-a399-4e0e-b167-a9d492d30e70",
   "metadata": {},
   "outputs": [
    {
     "name": "stderr",
     "output_type": "stream",
     "text": [
      "Processing verses: 100%|████████████████████████████████████████████████████| 41995/41995 [3:22:46<00:00,  3.45verse/s]"
     ]
    },
    {
     "name": "stdout",
     "output_type": "stream",
     "text": [
      "all verses have been embedded and updated!\n"
     ]
    },
    {
     "name": "stderr",
     "output_type": "stream",
     "text": [
      "\n"
     ]
    }
   ],
   "source": [
    "# Loop through each verse, generate an embedding, and update the table\n",
    "for verse in tqdm(verses, desc=\"Processing verses\", unit=\"verse\"):\n",
    "    # grab the verse ID\n",
    "    verse_id = verse[0]\n",
    "    # extract the text\n",
    "    scripture_text = verse[1]\n",
    "    #generate an embedding for the text\n",
    "    embedding = embed_text(scripture_text)\n",
    "    # update query to save embedding back to the correct column\n",
    "    update_query = \"\"\"\n",
    "    UPDATE verses\n",
    "    SET embeddings = %s\n",
    "    WHERE id = %s;\n",
    "    \"\"\"\n",
    "    # execute update query\n",
    "    cursor.execute(update_query, (embedding, verse_id))\n",
    "# commit the transaction to save changes to the database\n",
    "    connection.commit()\n",
    "\n",
    "print(\"all verses have been embedded and updated!\")"
   ]
  },
  {
   "cell_type": "code",
   "execution_count": 23,
   "id": "b006c929-b356-4966-83d9-5ff46f0e46f9",
   "metadata": {},
   "outputs": [],
   "source": [
    "#Close the cursor and connection\n",
    "cursor.close()\n",
    "connection.close()"
   ]
  },
  {
   "cell_type": "code",
   "execution_count": null,
   "id": "96b3c202-d439-4af8-892b-a9302caa164f",
   "metadata": {},
   "outputs": [],
   "source": []
  }
 ],
 "metadata": {
  "kernelspec": {
   "display_name": "Python 3 (ipykernel)",
   "language": "python",
   "name": "python3"
  },
  "language_info": {
   "codemirror_mode": {
    "name": "ipython",
    "version": 3
   },
   "file_extension": ".py",
   "mimetype": "text/x-python",
   "name": "python",
   "nbconvert_exporter": "python",
   "pygments_lexer": "ipython3",
   "version": "3.12.2"
  }
 },
 "nbformat": 4,
 "nbformat_minor": 5
}
